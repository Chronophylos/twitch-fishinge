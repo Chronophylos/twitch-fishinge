{
 "cells": [
  {
   "cell_type": "code",
   "execution_count": 34,
   "id": "4001fa8c-f85a-48ed-8e9b-7b9ff35aec23",
   "metadata": {},
   "outputs": [],
   "source": [
    "import matplotlib.pyplot as plt\n",
    "import ipywidgets as widgets\n",
    "from ipywidgets import interact"
   ]
  },
  {
   "cell_type": "code",
   "execution_count": 32,
   "id": "3f758e81-2938-4764-8f6e-5fa08b1cdccf",
   "metadata": {},
   "outputs": [],
   "source": [
    "def value(base_value, min_weight, max_weight, start_modifier, weight):\n",
    "\n",
    "    adjusted_start = (max_weight - min_weight) + start_modifier + min_weight\n",
    "    bonus = base_value * (weight - adjusted_start) / (max_weight - adjusted_start)        \n",
    "    return base_value + bonus\n",
    "\n",
    "def plot_value(base_value, weight_range, start_modifier):\n",
    "    min_weight = weight_range[0]\n",
    "    max_weight = weight_range[1]\n",
    "    \n",
    "    weights = range(min_weight, max_weight)\n",
    "    values = [value(base_value, min_weight, max_weight, start_modifier, weight) for weight in weights]\n",
    "    \n",
    "    fig, ax = plt.subplots()\n",
    "    ax.plot(values, weights)\n",
    "\n",
    "    ax.set(xlabel='value ($)', ylabel='weight (kg)',\n",
    "           title='About as simple as it gets, folks')\n",
    "    ax.grid()\n",
    "\n",
    "    plt.show()"
   ]
  },
  {
   "cell_type": "code",
   "execution_count": 35,
   "id": "1925f686-95d2-4afa-a6c0-94e1c2f4c85f",
   "metadata": {},
   "outputs": [
    {
     "data": {
      "application/vnd.jupyter.widget-view+json": {
       "model_id": "5be82230bc214050a0f6cea2db19bd9b",
       "version_major": 2,
       "version_minor": 0
      },
      "text/plain": [
       "interactive(children=(IntSlider(value=7, continuous_update=False, description='Base Value:'), IntRangeSlider(v…"
      ]
     },
     "metadata": {},
     "output_type": "display_data"
    }
   ],
   "source": [
    "base_value = widgets.IntSlider(\n",
    "    value=7,\n",
    "    min=0,\n",
    "    max=100,\n",
    "    step=1,\n",
    "    description='Base Value:',\n",
    "    continuous_update=False,\n",
    ")\n",
    "weight_range = widgets.IntRangeSlider(\n",
    "    value=[5, 7],\n",
    "    min=0,\n",
    "    max=100,\n",
    "    step=1,\n",
    "    description='Weight Range:',\n",
    "    disabled=False,\n",
    "    continuous_update=False,\n",
    ")\n",
    "start_modifier = widgets.FloatSlider(\n",
    "    value=7.5,\n",
    "    min=0,\n",
    "    max=1.0,\n",
    "    step=0.01,\n",
    "    description='Bonus Start Modifier:',\n",
    "    disabled=False,\n",
    "    continuous_update=False,\n",
    ")\n",
    "\n",
    "interact(plot_value, base_value=base_value, weight_range=weight_range, start_modifier=start_modifier);"
   ]
  },
  {
   "cell_type": "code",
   "execution_count": null,
   "id": "506a2dd3-045b-4691-af92-826f68747c41",
   "metadata": {},
   "outputs": [],
   "source": []
  }
 ],
 "metadata": {
  "kernelspec": {
   "display_name": "Python 3 (ipykernel)",
   "language": "python",
   "name": "python3"
  },
  "language_info": {
   "codemirror_mode": {
    "name": "ipython",
    "version": 3
   },
   "file_extension": ".py",
   "mimetype": "text/x-python",
   "name": "python",
   "nbconvert_exporter": "python",
   "pygments_lexer": "ipython3",
   "version": "3.10.6"
  }
 },
 "nbformat": 4,
 "nbformat_minor": 5
}
