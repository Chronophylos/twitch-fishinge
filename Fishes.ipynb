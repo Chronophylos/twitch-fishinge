{
 "cells": [
  {
   "cell_type": "code",
   "execution_count": 6,
   "id": "9236e746-924a-4c70-8899-278b58ef50b8",
   "metadata": {},
   "outputs": [],
   "source": [
    "# -*- coding: utf-8 -*-\n",
    "import matplotlib\n",
    "import matplotlib.pyplot as plt\n",
    "import pandas as pd\n",
    "import scipy as sc\n",
    "import scipy.integrate as integrate"
   ]
  },
  {
   "cell_type": "code",
   "execution_count": 8,
   "id": "8320b8c0-b857-49e8-9fb5-ed1a9a5fb9a7",
   "metadata": {},
   "outputs": [
    {
     "name": "stdout",
     "output_type": "stream",
     "text": [
      "Average Value of Fishes with Weight: 1.16548\n"
     ]
    }
   ],
   "source": [
    "average_weighted_fish_value = integrate.quad(\n",
    "    lambda x: (x * 1.36 - 0.48) ** 3 + 1.01 + x * 0.11, 0, 1\n",
    ")[0]\n",
    "print(f\"Average Value of Fishes with Weight: {average_weighted_fish_value}\")"
   ]
  },
  {
   "cell_type": "code",
   "execution_count": 39,
   "id": "8c640625-cd3f-4aa6-a43c-67c9b0aa6a7a",
   "metadata": {},
   "outputs": [],
   "source": [
    "data = pd.read_csv(\"fishes.csv\")\n",
    "population = data.sum()[\"count\"]\n",
    "\n",
    "data = data.assign(chance=lambda df: df[\"count\"] / population)\n",
    "data = data.assign(is_trash=lambda df: df[\"is_trash\"] == \"t\")\n",
    "pd.Series(\n",
    "    [\n",
    "        100,\n",
    "    ]\n",
    ")\n",
    "data[\"value_multiplier\"] = 1\n",
    "data[\"value_multiplier\"] = data[\"value_multiplier\"].where(data[\"max_weight\"] > 0, average_weighted_fish_value)\n",
    "data[\"value\"] = data[\"base_value\"] * data[\"value_multiplier\"]\n",
    "data = data.assign(\n",
    "    avg_base_value=lambda df: df[\"chance\"] * df[\"base_value\"] * df[\"value_multiplier\"]\n",
    ")"
   ]
  },
  {
   "cell_type": "code",
   "execution_count": 43,
   "id": "d8bf3e40-93a9-44fb-9872-d5a60dff0973",
   "metadata": {},
   "outputs": [
    {
     "name": "stdout",
     "output_type": "stream",
     "text": [
      "Mean value: $193.8342787878788\n"
     ]
    }
   ],
   "source": [
    "print(f\"Mean value: ${data['value'].mean()}\")"
   ]
  },
  {
   "cell_type": "code",
   "execution_count": 40,
   "id": "f252a0b5-f4a2-4322-8a98-c60e6ea70bb6",
   "metadata": {},
   "outputs": [
    {
     "name": "stdout",
     "output_type": "stream",
     "text": [
      "Mean averaged base value: $1.413394984326019\n"
     ]
    }
   ],
   "source": [
    "print(f\"Mean averaged base value: ${data['avg_base_value'].mean()}\")"
   ]
  },
  {
   "cell_type": "code",
   "execution_count": 41,
   "id": "049c0d87-d68c-45ee-8a68-722a196c9038",
   "metadata": {},
   "outputs": [
    {
     "name": "stdout",
     "output_type": "stream",
     "text": [
      "Chance to catch trash: 19.243604004449384%\n"
     ]
    }
   ],
   "source": [
    "x = data.query(\"is_trash\")[\"chance\"].sum() * 100\n",
    "print(f\"Chance to catch trash: {x}%\")"
   ]
  },
  {
   "cell_type": "code",
   "execution_count": 42,
   "id": "3310fcfe-7042-41b3-95c6-6d61d4256aa7",
   "metadata": {},
   "outputs": [
    {
     "name": "stdout",
     "output_type": "stream",
     "text": [
      "Chance to catch high value: 9.010011123470521%\n"
     ]
    }
   ],
   "source": [
    "x = data.query(\"base_value > 100\")[\"chance\"].sum() * 100\n",
    "print(f\"Chance to catch high value: {x}%\")"
   ]
  },
  {
   "cell_type": "code",
   "execution_count": null,
   "id": "ed4546ae-df1d-4e18-ab56-ebbb9aa6b11c",
   "metadata": {},
   "outputs": [],
   "source": []
  }
 ],
 "metadata": {
  "kernelspec": {
   "display_name": "Python 3 (ipykernel)",
   "language": "python",
   "name": "python3"
  },
  "language_info": {
   "codemirror_mode": {
    "name": "ipython",
    "version": 3
   },
   "file_extension": ".py",
   "mimetype": "text/x-python",
   "name": "python",
   "nbconvert_exporter": "python",
   "pygments_lexer": "ipython3",
   "version": "3.10.7"
  }
 },
 "nbformat": 4,
 "nbformat_minor": 5
}
