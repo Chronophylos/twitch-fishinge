{
 "cells": [
  {
   "cell_type": "code",
   "execution_count": 1,
   "id": "9236e746-924a-4c70-8899-278b58ef50b8",
   "metadata": {},
   "outputs": [],
   "source": [
    "# -*- coding: utf-8 -*-\n",
    "import matplotlib\n",
    "import matplotlib.pyplot as plt\n",
    "import pandas as pd\n",
    "\n",
    "matplotlib.rc(\"font\", family=[\"Noto Color Emoji\", \"Noto Sans\"])"
   ]
  },
  {
   "cell_type": "code",
   "execution_count": 12,
   "id": "8c640625-cd3f-4aa6-a43c-67c9b0aa6a7a",
   "metadata": {},
   "outputs": [],
   "source": [
    "fishes = [\n",
    "    (\"👞\", \"👞\", 200, 0, 0, 0, True),\n",
    "    (\"💣\", \"💣\", 25, -50, 0, 0, True),\n",
    "    (\"🥫\", \"🥫\", 50, 0, 0, 0, True),\n",
    "    (\"🐍\", \"🐍\", 50, 60, 0, 0, False),\n",
    "    (\"🐉\", \"🐉\", 10, 400, 0, 0, False),\n",
    "    (\"🐌\", \"🐌\", 80, 15, 0, 0, False),\n",
    "    (\"🥒\", \"🥒\", 80, 5, 0, 0, False),\n",
    "    (\"🦆\", \"🦆\", 100, 30, 5, 2, False),\n",
    "    (\"🐸\", \"🐸\", 50, 20, 0, 0, False),\n",
    "    (\"🐚\", \"🐚\", 150, 10, 0, 0, False),\n",
    "    (\n",
    "        \"Turteg\",\n",
    "        '<img src=\"https://cdn.7tv.app/emote/61474a7845d00846a86eb11e/4x\" height=\"32\" alt=\"Turteg\"/>',\n",
    "        100,\n",
    "        30,\n",
    "        500,\n",
    "        10,\n",
    "        False,\n",
    "    ),\n",
    "    (\"🐟\", \"🐟\", 200, 20, 5, 0.2, False),\n",
    "    (\"🐠\", \"🐠\", 140, 30, 5, 0.2, False),\n",
    "    (\"🐡\", \"🐡\", 100, 40, 5, 0.2, False),\n",
    "    (\"🦐\", \"🦐\", 100, 30, 0, 0, False),\n",
    "    (\"🦑\", \"🦑\", 80, 50, 0, 0, False),\n",
    "    (\"🦈\", \"🦈\", 70, 150, 771, 522, False),\n",
    "    (\"💀\", \"💀\", 50, 50, 0, 0, True),\n",
    "    (\"💰\", \"💰\", 1, 1000, 10, 1, False),\n",
    "    (\"🦀\", \"🦀\", 10, 400, 14, 10, False),\n",
    "    (\"🐳\", \"🐳\", 10, 800, 130000, 88000, False),\n",
    "    (\"🐯🦈\", \"🐯🦈\", 10, 200, 635, 175, False),\n",
    "    (\"🔨🦈\", \"🔨🦈\", 10, 300, 580, 3, False),\n",
    "    (\"🌚🐟\", \"🌚🐟\", 10, 210, 270, 100, False),\n",
    "    (\"🌞🐟\", \"🌞🐟\", 10, 230, 2000, 247, False),\n",
    "    (\"🐬\", \"🐬\", 50, 100, 650, 150, False),\n",
    "    (\n",
    "        \"Dedge 🚓\",\n",
    "        '<img src=\"https://cdn.7tv.app/emote/610c108093d7e5d60ddb33f4/4x\" height=\"32\" alt=\"Dedge\"/> 🚓',\n",
    "        10,\n",
    "        -100,\n",
    "        0,\n",
    "        0,\n",
    "        True,\n",
    "    ),\n",
    "    (\n",
    "        \"Magerquark\",\n",
    "        '<img src=\"https://cdn.7tv.app/emote/60d73cd5d7e0d54212783696/4x\" height=\"32\" alt=\"Magerquark\"/>',\n",
    "        10,\n",
    "        1.39,\n",
    "        0.5,\n",
    "        0.25,\n",
    "        True,\n",
    "    ),\n",
    "    (\n",
    "        \"deviW\",\n",
    "        '<img src=\"https://cdn.7tv.app/emote/60b5065916a054a6eac1240b/4x\" height=\"32\" alt=\"deviW\"/>',\n",
    "        1,\n",
    "        -500,\n",
    "        200,\n",
    "        100,\n",
    "        True,\n",
    "    ),\n",
    "    (\n",
    "        \"FishMoley\",\n",
    "        '<img src=\"https://cdn.betterttv.net/emote/566ca00f65dbbdab32ec0544/3x\" height=\"32\" alt=\"FishMoley\"/>',\n",
    "        10,\n",
    "        100,\n",
    "        10,\n",
    "        3.5,\n",
    "        False,\n",
    "    ),\n",
    "    (\n",
    "        \"Hhhehehe\",\n",
    "        '<img src=\"https://cdn.betterttv.net/emote/566ca02865dbbdab32ec0547/3x\" height=\"32\" alt=\"Hhhehehe\"/>',\n",
    "        10,\n",
    "        200,\n",
    "        0,\n",
    "        0,\n",
    "        False,\n",
    "    ),\n",
    "    (\n",
    "        \"DuckerZ\",\n",
    "        '<img src=\"https://cdn.betterttv.net/emote/573d38b50ffbf6cc5cc38dc9/3x\" height=\"32\" alt=\"DuckerZ\"/>',\n",
    "        10,\n",
    "        120,\n",
    "        8,\n",
    "        3,\n",
    "        False,\n",
    "    ),\n",
    "    (\n",
    "        \"FLOPPA\",\n",
    "        '<img src=\"https://cdn.7tv.app/emote/603eb97c115b55000d7282ec/4x\" height=\"32\" alt=\"FLOPPA\"/>',\n",
    "        1,\n",
    "        2000,\n",
    "        0,\n",
    "        0,\n",
    "        False,\n",
    "    ),\n",
    "]\n",
    "data = pd.DataFrame(fishes).rename(\n",
    "    columns={\n",
    "        0: \"name\",\n",
    "        1: \"html_name\",\n",
    "        2: \"count\",\n",
    "        3: \"base_value\",\n",
    "        4: \"max_weight\",\n",
    "        5: \"min_weight\",\n",
    "        6: \"is_trash\",\n",
    "    }\n",
    ")\n",
    "population = data.sum()[\"count\"]\n",
    "data = data.assign(chance=lambda df: df[\"count\"] / population)\n",
    "data = data.assign(avg_base_value=lambda df: df[\"chance\"] * df[\"base_value\"] * 100)"
   ]
  },
  {
   "cell_type": "code",
   "execution_count": 13,
   "id": "f252a0b5-f4a2-4322-8a98-c60e6ea70bb6",
   "metadata": {},
   "outputs": [
    {
     "name": "stdout",
     "output_type": "stream",
     "text": [
      "Mean averaged base value: $135.1061785822631\n"
     ]
    }
   ],
   "source": [
    "print(f\"Mean averaged base value: ${data['avg_base_value'].mean()}\")"
   ]
  },
  {
   "cell_type": "code",
   "execution_count": 14,
   "id": "049c0d87-d68c-45ee-8a68-722a196c9038",
   "metadata": {},
   "outputs": [
    {
     "name": "stdout",
     "output_type": "stream",
     "text": [
      "Chance to catch trash: 19.243604004449384%\n"
     ]
    }
   ],
   "source": [
    "x = data.query(\"is_trash\")[\"chance\"].sum() * 100\n",
    "print(f\"Chance to catch trash: {x}%\")"
   ]
  },
  {
   "cell_type": "code",
   "execution_count": 15,
   "id": "3310fcfe-7042-41b3-95c6-6d61d4256aa7",
   "metadata": {},
   "outputs": [
    {
     "name": "stdout",
     "output_type": "stream",
     "text": [
      "Chance to catch high value: 9.010011123470521%\n"
     ]
    }
   ],
   "source": [
    "x = data.query(\"base_value > 100\")[\"chance\"].sum() * 100\n",
    "print(f\"Chance to catch high value: {x}%\")"
   ]
  },
  {
   "cell_type": "code",
   "execution_count": 16,
   "id": "86630aec-b8ba-4da1-9a1a-a95a11ef6a5e",
   "metadata": {},
   "outputs": [
    {
     "name": "stdout",
     "output_type": "stream",
     "text": [
      "INSERT INTO fishes(name, html_name, count, base_value, min_weight, max_weight, is_trash)\n",
      "VALUES\n",
      "\t('👞', '👞', 200, 0.0, 0.0, 0.0, true),\n",
      "\t('💣', '💣', 25, -50.0, 0.0, 0.0, true),\n",
      "\t('🥫', '🥫', 50, 0.0, 0.0, 0.0, true),\n",
      "\t('🐍', '🐍', 50, 60.0, 0.0, 0.0, false),\n",
      "\t('🐉', '🐉', 10, 400.0, 0.0, 0.0, false),\n",
      "\t('🐌', '🐌', 80, 15.0, 0.0, 0.0, false),\n",
      "\t('🥒', '🥒', 80, 5.0, 0.0, 0.0, false),\n",
      "\t('🦆', '🦆', 100, 30.0, 2.0, 5.0, false),\n",
      "\t('🐸', '🐸', 50, 20.0, 0.0, 0.0, false),\n",
      "\t('🐚', '🐚', 150, 10.0, 0.0, 0.0, false),\n",
      "\t('Turteg', '<img src=\"https://cdn.7tv.app/emote/61474a7845d00846a86eb11e/4x\" height=\"32\" alt=\"Turteg\"/>', 100, 30.0, 10.0, 500.0, false),\n",
      "\t('🐟', '🐟', 200, 20.0, 0.2, 5.0, false),\n",
      "\t('🐠', '🐠', 140, 30.0, 0.2, 5.0, false),\n",
      "\t('🐡', '🐡', 100, 40.0, 0.2, 5.0, false),\n",
      "\t('🦐', '🦐', 100, 30.0, 0.0, 0.0, false),\n",
      "\t('🦑', '🦑', 80, 50.0, 0.0, 0.0, false),\n",
      "\t('🦈', '🦈', 70, 150.0, 522.0, 771.0, false),\n",
      "\t('💀', '💀', 50, 50.0, 0.0, 0.0, true),\n",
      "\t('💰', '💰', 1, 1000.0, 1.0, 10.0, false),\n",
      "\t('🦀', '🦀', 10, 400.0, 10.0, 14.0, false),\n",
      "\t('🐳', '🐳', 10, 800.0, 88000.0, 130000.0, false),\n",
      "\t('🐯🦈', '🐯🦈', 10, 200.0, 175.0, 635.0, false),\n",
      "\t('🔨🦈', '🔨🦈', 10, 300.0, 3.0, 580.0, false),\n",
      "\t('🌚🐟', '🌚🐟', 10, 210.0, 100.0, 270.0, false),\n",
      "\t('🌞🐟', '🌞🐟', 10, 230.0, 247.0, 2000.0, false),\n",
      "\t('🐬', '🐬', 50, 100.0, 150.0, 650.0, false),\n",
      "\t('Dedge 🚓', '<img src=\"https://cdn.7tv.app/emote/610c108093d7e5d60ddb33f4/4x\" height=\"32\" alt=\"Dedge\"/> 🚓', 10, -100.0, 0.0, 0.0, true),\n",
      "\t('Magerquark', '<img src=\"https://cdn.7tv.app/emote/60d73cd5d7e0d54212783696/4x\" height=\"32\" alt=\"Magerquark\"/>', 10, 1.39, 0.25, 0.5, true),\n",
      "\t('deviW', '<img src=\"https://cdn.7tv.app/emote/60b5065916a054a6eac1240b/4x\" height=\"32\" alt=\"deviW\"/>', 1, -500.0, 100.0, 200.0, true),\n",
      "\t('FishMoley', '<img src=\"https://cdn.betterttv.net/emote/566ca00f65dbbdab32ec0544/3x\" height=\"32\" alt=\"FishMoley\"/>', 10, 100.0, 3.5, 10.0, false),\n",
      "\t('Hhhehehe', '<img src=\"https://cdn.betterttv.net/emote/566ca02865dbbdab32ec0547/3x\" height=\"32\" alt=\"Hhhehehe\"/>', 10, 200.0, 0.0, 0.0, false),\n",
      "\t('DuckerZ', '<img src=\"https://cdn.betterttv.net/emote/573d38b50ffbf6cc5cc38dc9/3x\" height=\"32\" alt=\"DuckerZ\"/>', 10, 120.0, 3.0, 8.0, false),\n",
      "\t('FLOPPA', '<img src=\"https://cdn.7tv.app/emote/603eb97c115b55000d7282ec/4x\" height=\"32\" alt=\"FLOPPA\"/>', 1, 2000.0, 0.0, 0.0, false);\n"
     ]
    }
   ],
   "source": [
    "print(\n",
    "    \"INSERT INTO fishes(name, html_name, count, base_value, min_weight, max_weight, is_trash)\"\n",
    ")\n",
    "print(\"VALUES\")\n",
    "print(\n",
    "    \",\\n\".join(\n",
    "        [\n",
    "            f\"\\t('{row['name']}', '{row['html_name']}', {row['count']}, {row['base_value']}, {row['min_weight']}, {row['max_weight']}, {'true' if row['is_trash'] else 'false'})\"\n",
    "            for index, row in data.iterrows()\n",
    "        ]\n",
    "    )\n",
    "    + \";\"\n",
    ")"
   ]
  },
  {
   "cell_type": "code",
   "execution_count": null,
   "id": "b6f5fc0c-f26d-4ec2-85ec-152897637bef",
   "metadata": {},
   "outputs": [],
   "source": []
  }
 ],
 "metadata": {
  "kernelspec": {
   "display_name": "Python 3 (ipykernel)",
   "language": "python",
   "name": "python3"
  },
  "language_info": {
   "codemirror_mode": {
    "name": "ipython",
    "version": 3
   },
   "file_extension": ".py",
   "mimetype": "text/x-python",
   "name": "python",
   "nbconvert_exporter": "python",
   "pygments_lexer": "ipython3",
   "version": "3.10.6"
  }
 },
 "nbformat": 4,
 "nbformat_minor": 5
}
