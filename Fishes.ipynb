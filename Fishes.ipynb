{
 "cells": [
  {
   "cell_type": "code",
   "execution_count": 1,
   "id": "9236e746-924a-4c70-8899-278b58ef50b8",
   "metadata": {},
   "outputs": [],
   "source": [
    "# -*- coding: utf-8 -*-\n",
    "import matplotlib\n",
    "import matplotlib.pyplot as plt\n",
    "import pandas as pd"
   ]
  },
  {
   "cell_type": "code",
   "execution_count": 7,
   "id": "8c640625-cd3f-4aa6-a43c-67c9b0aa6a7a",
   "metadata": {},
   "outputs": [],
   "source": [
    "data = pd.read_csv(\"fishes.csv\")\n",
    "population = data.sum()[\"count\"]\n",
    "data = data.assign(chance=lambda df: df[\"count\"] / population)\n",
    "data = data.assign(is_trash=lambda df: df[\"is_trash\"] == 't')\n",
    "data = data.assign(avg_base_value=lambda df: df[\"chance\"] * df[\"base_value\"] * 100)"
   ]
  },
  {
   "cell_type": "code",
   "execution_count": 8,
   "id": "f252a0b5-f4a2-4322-8a98-c60e6ea70bb6",
   "metadata": {},
   "outputs": [
    {
     "name": "stdout",
     "output_type": "stream",
     "text": [
      "Mean averaged base value: $135.10617858226314\n"
     ]
    }
   ],
   "source": [
    "print(f\"Mean averaged base value: ${data['avg_base_value'].mean()}\")"
   ]
  },
  {
   "cell_type": "code",
   "execution_count": 9,
   "id": "049c0d87-d68c-45ee-8a68-722a196c9038",
   "metadata": {},
   "outputs": [
    {
     "name": "stdout",
     "output_type": "stream",
     "text": [
      "Chance to catch trash: 19.243604004449384%\n"
     ]
    }
   ],
   "source": [
    "x = data.query(\"is_trash\")[\"chance\"].sum() * 100\n",
    "print(f\"Chance to catch trash: {x}%\")"
   ]
  },
  {
   "cell_type": "code",
   "execution_count": 10,
   "id": "3310fcfe-7042-41b3-95c6-6d61d4256aa7",
   "metadata": {},
   "outputs": [
    {
     "name": "stdout",
     "output_type": "stream",
     "text": [
      "Chance to catch high value: 9.010011123470521%\n"
     ]
    }
   ],
   "source": [
    "x = data.query(\"base_value > 100\")[\"chance\"].sum() * 100\n",
    "print(f\"Chance to catch high value: {x}%\")"
   ]
  },
  {
   "cell_type": "code",
   "execution_count": null,
   "id": "1e0e73f9-4835-45f7-86a0-e97217e3a7ff",
   "metadata": {},
   "outputs": [],
   "source": []
  }
 ],
 "metadata": {
  "kernelspec": {
   "display_name": "Python 3 (ipykernel)",
   "language": "python",
   "name": "python3"
  },
  "language_info": {
   "codemirror_mode": {
    "name": "ipython",
    "version": 3
   },
   "file_extension": ".py",
   "mimetype": "text/x-python",
   "name": "python",
   "nbconvert_exporter": "python",
   "pygments_lexer": "ipython3",
   "version": "3.10.7"
  }
 },
 "nbformat": 4,
 "nbformat_minor": 5
}
